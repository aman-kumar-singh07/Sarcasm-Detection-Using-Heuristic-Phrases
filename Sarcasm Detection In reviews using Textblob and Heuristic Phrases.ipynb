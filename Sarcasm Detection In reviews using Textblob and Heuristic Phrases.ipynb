{
 "cells": [
  {
   "cell_type": "code",
   "execution_count": 1,
   "id": "6ecb92ed",
   "metadata": {},
   "outputs": [
    {
     "name": "stdout",
     "output_type": "stream",
     "text": [
      "Defaulting to user installation because normal site-packages is not writeable\n",
      "Requirement already satisfied: textblob in c:\\users\\amank\\appdata\\roaming\\python\\python313\\site-packages (0.19.0)\n",
      "Requirement already satisfied: nltk>=3.9 in c:\\users\\amank\\appdata\\roaming\\python\\python313\\site-packages (from textblob) (3.9.1)\n",
      "Requirement already satisfied: click in c:\\users\\amank\\appdata\\roaming\\python\\python313\\site-packages (from nltk>=3.9->textblob) (8.1.8)\n",
      "Requirement already satisfied: joblib in c:\\users\\amank\\appdata\\roaming\\python\\python313\\site-packages (from nltk>=3.9->textblob) (1.4.2)\n",
      "Requirement already satisfied: regex>=2021.8.3 in c:\\users\\amank\\appdata\\roaming\\python\\python313\\site-packages (from nltk>=3.9->textblob) (2024.11.6)\n",
      "Requirement already satisfied: tqdm in c:\\users\\amank\\appdata\\roaming\\python\\python313\\site-packages (from nltk>=3.9->textblob) (4.67.1)\n",
      "Requirement already satisfied: colorama in c:\\users\\amank\\appdata\\roaming\\python\\python313\\site-packages (from click->nltk>=3.9->textblob) (0.4.6)\n"
     ]
    }
   ],
   "source": [
    "!pip install textblob\n"
   ]
  },
  {
   "cell_type": "code",
   "execution_count": 2,
   "id": "cd7825bb",
   "metadata": {},
   "outputs": [
    {
     "ename": "ModuleNotFoundError",
     "evalue": "No module named 'textblob'",
     "output_type": "error",
     "traceback": [
      "\u001b[1;31m---------------------------------------------------------------------------\u001b[0m",
      "\u001b[1;31mModuleNotFoundError\u001b[0m                       Traceback (most recent call last)",
      "Input \u001b[1;32mIn [2]\u001b[0m, in \u001b[0;36m<cell line: 1>\u001b[1;34m()\u001b[0m\n\u001b[1;32m----> 1\u001b[0m \u001b[38;5;28;01mfrom\u001b[39;00m \u001b[38;5;21;01mtextblob\u001b[39;00m \u001b[38;5;28;01mimport\u001b[39;00m TextBlob\n\u001b[0;32m      3\u001b[0m text \u001b[38;5;241m=\u001b[39m \u001b[38;5;124m\"\u001b[39m\u001b[38;5;124mI love this beautiful day!\u001b[39m\u001b[38;5;124m\"\u001b[39m\n\u001b[0;32m      4\u001b[0m blob \u001b[38;5;241m=\u001b[39m TextBlob(text)\n",
      "\u001b[1;31mModuleNotFoundError\u001b[0m: No module named 'textblob'"
     ]
    }
   ],
   "source": [
    "from textblob import TextBlob\n",
    "\n",
    "text = \"I love this beautiful day!\"\n",
    "blob = TextBlob(text)\n",
    "\n",
    "print(blob.sentiment)\n",
    "\n"
   ]
  },
  {
   "cell_type": "code",
   "execution_count": 4,
   "id": "08a57fcc",
   "metadata": {},
   "outputs": [
    {
     "name": "stdout",
     "output_type": "stream",
     "text": [
      "Collecting textblob\n",
      "  Downloading textblob-0.19.0-py3-none-any.whl (624 kB)\n",
      "     -------------------------------------- 624.3/624.3 KB 2.6 MB/s eta 0:00:00\n",
      "Collecting nltk>=3.9\n",
      "  Downloading nltk-3.9.1-py3-none-any.whl (1.5 MB)\n",
      "     ---------------------------------------- 1.5/1.5 MB 1.8 MB/s eta 0:00:00\n",
      "Collecting joblib\n",
      "  Downloading joblib-1.4.2-py3-none-any.whl (301 kB)\n",
      "     -------------------------------------- 301.8/301.8 KB 3.7 MB/s eta 0:00:00\n",
      "Collecting regex>=2021.8.3\n",
      "  Downloading regex-2024.11.6-cp310-cp310-win_amd64.whl (274 kB)\n",
      "     -------------------------------------- 274.0/274.0 KB 3.4 MB/s eta 0:00:00\n",
      "Collecting click\n",
      "  Downloading click-8.1.8-py3-none-any.whl (98 kB)\n",
      "     ---------------------------------------- 98.2/98.2 KB 2.8 MB/s eta 0:00:00\n",
      "Collecting tqdm\n",
      "  Downloading tqdm-4.67.1-py3-none-any.whl (78 kB)\n",
      "     ---------------------------------------- 78.5/78.5 KB 4.6 MB/s eta 0:00:00\n",
      "Requirement already satisfied: colorama in c:\\users\\amank\\appdata\\local\\programs\\python\\python310\\lib\\site-packages (from click->nltk>=3.9->textblob) (0.4.5)\n",
      "Installing collected packages: tqdm, regex, joblib, click, nltk, textblob\n",
      "Successfully installed click-8.1.8 joblib-1.4.2 nltk-3.9.1 regex-2024.11.6 textblob-0.19.0 tqdm-4.67.1\n"
     ]
    },
    {
     "name": "stderr",
     "output_type": "stream",
     "text": [
      "WARNING: You are using pip version 22.0.4; however, version 25.0.1 is available.\n",
      "You should consider upgrading via the 'C:\\Users\\amank\\AppData\\Local\\Programs\\Python\\Python310\\python.exe -m pip install --upgrade pip' command.\n"
     ]
    }
   ],
   "source": [
    "import sys\n",
    "!{sys.executable} -m pip install textblob\n"
   ]
  },
  {
   "cell_type": "code",
   "execution_count": 5,
   "id": "90d44d85",
   "metadata": {},
   "outputs": [
    {
     "name": "stdout",
     "output_type": "stream",
     "text": [
      "Sentiment(polarity=0.75, subjectivity=0.8)\n"
     ]
    }
   ],
   "source": [
    "from textblob import TextBlob\n",
    "\n",
    "text = \"I love this beautiful day!\"\n",
    "blob = TextBlob(text)\n",
    "print(blob.sentiment)\n",
    "\n"
   ]
  },
  {
   "cell_type": "code",
   "execution_count": 27,
   "id": "530d041d",
   "metadata": {},
   "outputs": [
    {
     "name": "stdout",
     "output_type": "stream",
     "text": [
      "text: Just loved getting food poisoning. Best birthday ever!!!\n",
      "final_sentiment: Negative\n",
      "polarity: 0.85\n",
      "subjectivity: 0.55\n",
      "sarcastic: True\n"
     ]
    }
   ],
   "source": [
    "from textblob import TextBlob\n",
    "\n",
    "def analyze_sentiment(text):\n",
    "    blob = TextBlob(text)\n",
    "    polarity = blob.sentiment.polarity\n",
    "    subjectivity = blob.sentiment.subjectivity\n",
    "\n",
    "    if polarity > 0:\n",
    "        sentiment = \"Positive\"\n",
    "    elif polarity < 0:\n",
    "        sentiment = \"Negative\"\n",
    "    else:\n",
    "        sentiment = \"Neutral\"\n",
    "        \n",
    "    return sentiment, polarity, subjectivity\n",
    "\n",
    "def detect_sarcasm(text):\n",
    "    negative_cues = ['not', 'never', 'barely', 'hardly', 'no', 'nothing']\n",
    "    positive_cues = ['good', 'great', 'love', 'amazing', 'awesome', 'best']\n",
    "    sarcasm_indicators = ['!!!', '🙄', '😒', 'lol', '...', 'wow']\n",
    "    \n",
    "    sarcasm_score = 0\n",
    "    \n",
    "    if any(word in text.lower() for word in negative_cues) and any(word in text.lower() for word in positive_cues):\n",
    "        sarcasm_score += 1\n",
    "        \n",
    "    if any(ind in text.lower() for ind in sarcasm_indicators):\n",
    "        sarcasm_score += 1\n",
    "\n",
    "    if \"food poisoning\" in text.lower() or \"worst\" in text.lower():\n",
    "        sarcasm_score += 1\n",
    "\n",
    "    return sarcasm_score >= 1\n",
    "\n",
    "def analyze_with_sarcasm(text):\n",
    "    sentiment, polarity, subjectivity = analyze_sentiment(text)\n",
    "    sarcastic = detect_sarcasm(text)\n",
    "    \n",
    "    if sarcastic:\n",
    "        if sentiment == \"Positive\":\n",
    "            sentiment = \"Negative\"\n",
    "        elif sentiment == \"Negative\":\n",
    "            sentiment = \"Positive\"\n",
    "    \n",
    "    return {\n",
    "        'text': text,\n",
    "        'final_sentiment': sentiment,\n",
    "        'polarity': polarity,\n",
    "        'subjectivity': subjectivity,\n",
    "        'sarcastic': sarcastic\n",
    "    }\n",
    "\n",
    "\n",
    "review = \"Just loved getting food poisoning. Best birthday ever!!!\"\n",
    "result = analyze_with_sarcasm(review)\n",
    "\n",
    "for key, value in result.items():\n",
    "    print(f\"{key}: {value}\")\n"
   ]
  },
  {
   "cell_type": "code",
   "execution_count": 28,
   "id": "518e5914",
   "metadata": {},
   "outputs": [
    {
     "name": "stdout",
     "output_type": "stream",
     "text": [
      "Enter what review you wanna give meI can't wait to work all weekend! 😒\n",
      "text: I can't wait to work all weekend! 😒\n",
      "final_sentiment: Neutral\n",
      "polarity: 0.0\n",
      "subjectivity: 0.0\n",
      "sarcastic: True\n"
     ]
    }
   ],
   "source": [
    "from textblob import TextBlob\n",
    "\n",
    "def analyze_sentiment(text):\n",
    "    blob = TextBlob(text)\n",
    "    polarity = blob.sentiment.polarity\n",
    "    subjectivity = blob.sentiment.subjectivity\n",
    "\n",
    "    if polarity > 0:\n",
    "        sentiment = \"Positive\"\n",
    "    elif polarity < 0:\n",
    "        sentiment = \"Negative\"\n",
    "    else:\n",
    "        sentiment = \"Neutral\"\n",
    "        \n",
    "    return sentiment, polarity, subjectivity\n",
    "\n",
    "def detect_sarcasm(text):\n",
    "    negative_cues = ['not', 'never', 'barely', 'hardly', 'no', 'nothing']\n",
    "    positive_cues = ['good', 'great', 'love', 'amazing', 'awesome', 'best']\n",
    "    sarcasm_indicators = ['!!!', '🙄', '😒', 'lol', '...', 'wow']\n",
    "    \n",
    "    sarcasm_score = 0\n",
    "    \n",
    "    if any(word in text.lower() for word in negative_cues) and any(word in text.lower() for word in positive_cues):\n",
    "        sarcasm_score += 1\n",
    "        \n",
    "    if any(ind in text.lower() for ind in sarcasm_indicators):\n",
    "        sarcasm_score += 1\n",
    "\n",
    "    if \"food poisoning\" in text.lower() or \"worst\" in text.lower():\n",
    "        sarcasm_score += 1\n",
    "\n",
    "    return sarcasm_score >= 1\n",
    "\n",
    "def analyze_with_sarcasm(text):\n",
    "    sentiment, polarity, subjectivity = analyze_sentiment(text)\n",
    "    sarcastic = detect_sarcasm(text)\n",
    "    \n",
    "    if sarcastic:\n",
    "        if sentiment == \"Positive\":\n",
    "            sentiment = \"Negative\"\n",
    "        elif sentiment == \"Negative\":\n",
    "            sentiment = \"Positive\"\n",
    "    \n",
    "    return {\n",
    "        'text': text,\n",
    "        'final_sentiment': sentiment,\n",
    "        'polarity': polarity,\n",
    "        'subjectivity': subjectivity,\n",
    "        'sarcastic': sarcastic\n",
    "    }\n",
    "\n",
    "\n",
    "review = input(\"Enter what review you wanna give me\")\n",
    "result = analyze_with_sarcasm(review)\n",
    "\n",
    "for key, value in result.items():\n",
    "    print(f\"{key}: {value}\")\n"
   ]
  },
  {
   "cell_type": "code",
   "execution_count": 12,
   "id": "a18b3874",
   "metadata": {},
   "outputs": [
    {
     "name": "stdout",
     "output_type": "stream",
     "text": [
      "Enter what review you wanna give meI can't wait to work all weekend! 😒\n",
      "text: I can't wait to work all weekend! 😒\n",
      "final_sentiment: Neutral\n",
      "polarity: 0.0\n",
      "subjectivity: 0.0\n",
      "sarcastic: False\n"
     ]
    }
   ],
   "source": [
    "from textblob import TextBlob\n",
    "\n",
    "def analyze_sentiment(text):\n",
    "    blob = TextBlob(text)\n",
    "    polarity = blob.sentiment.polarity\n",
    "    subjectivity = blob.sentiment.subjectivity\n",
    "\n",
    "    if polarity > 0:\n",
    "        sentiment = \"Positive\"\n",
    "    elif polarity < 0:\n",
    "        sentiment = \"Negative\"\n",
    "    else:\n",
    "        sentiment = \"Neutral\"\n",
    "        \n",
    "    return sentiment, polarity, subjectivity\n",
    "\n",
    "def detect_sarcasm(text):\n",
    "    negative_cues = ['not', 'never', 'barely', 'hardly', 'no', 'nothing']\n",
    "    positive_cues = ['good', 'great', 'love', 'amazing', 'awesome', 'best']\n",
    "    sarcasm_indicators = ['!!!', '🙄', '😒', 'lol', '...', 'wow']\n",
    "    \n",
    "    sarcasm_score = 0\n",
    "    \n",
    "    if any(word in text.lower() for word in negative_cues) and any(word in text.lower() for word in positive_cues):\n",
    "        sarcasm_score += 1\n",
    "        \n",
    "    if any(ind in text.lower() for ind in sarcasm_indicators):\n",
    "        sarcasm_score += 1\n",
    "\n",
    "    if \"food poisoning\" in text.lower() or \"worst\" in text.lower():\n",
    "        sarcasm_score += 1\n",
    "\n",
    "    return sarcasm_score >= 2\n",
    "\n",
    "def analyze_with_sarcasm(text):\n",
    "    sentiment, polarity, subjectivity = analyze_sentiment(text)\n",
    "    sarcastic = detect_sarcasm(text)\n",
    "    \n",
    "    if sarcastic:\n",
    "        if sentiment == \"Positive\":\n",
    "            sentiment = \"Negative\"\n",
    "        elif sentiment == \"Negative\":\n",
    "            sentiment = \"Positive\"\n",
    "    \n",
    "    return {\n",
    "        'text': text,\n",
    "        'final_sentiment': sentiment,\n",
    "        'polarity': polarity,\n",
    "        'subjectivity': subjectivity,\n",
    "        'sarcastic': sarcastic\n",
    "    }\n",
    "\n",
    "\n",
    "review = input(\"Enter what review you wanna give me\")\n",
    "result = analyze_with_sarcasm(review)\n",
    "\n",
    "for key, value in result.items():\n",
    "    print(f\"{key}: {value}\")"
   ]
  },
  {
   "cell_type": "code",
   "execution_count": 30,
   "id": "4bb187f0",
   "metadata": {},
   "outputs": [
    {
     "name": "stdout",
     "output_type": "stream",
     "text": [
      "text: I can't wait to work all weekend! 😒\n",
      "final_sentiment: Neutral\n",
      "polarity: 0.0\n",
      "subjectivity: 0.0\n",
      "sarcastic: True\n"
     ]
    }
   ],
   "source": [
    "def analyze_sentiment(text):\n",
    "    blob = TextBlob(text)\n",
    "    polarity = blob.sentiment.polarity\n",
    "    subjectivity = blob.sentiment.subjectivity\n",
    "\n",
    "    if polarity > 0:\n",
    "        sentiment = \"Positive\"\n",
    "    elif polarity < 0:\n",
    "        sentiment = \"Negative\"\n",
    "    else:\n",
    "        sentiment = \"Neutral\"\n",
    "        \n",
    "    return sentiment, polarity, subjectivity\n",
    "\n",
    "def detect_sarcasm(text):\n",
    "\n",
    "    negative_cues = ['not', 'never', 'barely', 'hardly', 'no', 'nothing', \"can't\", \"won't\"]\n",
    "    positive_cues = ['good', 'great', 'love', 'amazing', 'awesome', 'best']\n",
    "    sarcasm_indicators = ['!!!', '🙄', '😒', 'lol', '...', 'wow']\n",
    "    \n",
    "    sarcasm_score = 0\n",
    "    \n",
    "    # Check for both negative and positive cues in the sentence\n",
    "    if any(word in text.lower() for word in negative_cues) and any(word in text.lower() for word in positive_cues):\n",
    "        sarcasm_score += 1\n",
    "        \n",
    "    # Check for sarcasm indicators (including emojis)\n",
    "    if any(ind in text.lower() for ind in sarcasm_indicators):\n",
    "        sarcasm_score += 1\n",
    "\n",
    "    # Check for common sarcastic phrases (like \"can't wait\")\n",
    "    sarcastic_phrases = [\"can't wait\", \"so excited\", \"best day ever\", \"just what I needed\"]\n",
    "    if any(phrase in text.lower() for phrase in sarcastic_phrases):\n",
    "        sarcasm_score += 1\n",
    "\n",
    "    return sarcasm_score >= 1\n",
    "\n",
    "def analyze_with_sarcasm(text):\n",
    "    sentiment, polarity, subjectivity = analyze_sentiment(text)\n",
    "    sarcastic = detect_sarcasm(text)\n",
    "    \n",
    "    if sarcastic:\n",
    "        if sentiment == \"Positive\":\n",
    "            sentiment = \"Negative\"\n",
    "        elif sentiment == \"Negative\":\n",
    "            sentiment = \"Positive\"\n",
    "    \n",
    "    return {\n",
    "        'text': text,\n",
    "        'final_sentiment': sentiment,\n",
    "        'polarity': polarity,\n",
    "        'subjectivity': subjectivity,\n",
    "        'sarcastic': sarcastic\n",
    "    }\n",
    "\n",
    "# Test it with your example sentence\n",
    "review =  \"I can't wait to work all weekend! 😒\"\n",
    "result = analyze_with_sarcasm(review)\n",
    "\n",
    "for key, value in result.items():\n",
    "    print(f\"{key}: {value}\")\n"
   ]
  }
 ],
 "metadata": {
  "kernelspec": {
   "display_name": "Python 3 (ipykernel)",
   "language": "python",
   "name": "python3"
  },
  "language_info": {
   "codemirror_mode": {
    "name": "ipython",
    "version": 3
   },
   "file_extension": ".py",
   "mimetype": "text/x-python",
   "name": "python",
   "nbconvert_exporter": "python",
   "pygments_lexer": "ipython3",
   "version": "3.10.5"
  }
 },
 "nbformat": 4,
 "nbformat_minor": 5
}
